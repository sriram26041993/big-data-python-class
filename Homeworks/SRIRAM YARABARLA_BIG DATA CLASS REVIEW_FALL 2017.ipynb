{
 "cells": [
  {
   "cell_type": "raw",
   "metadata": {},
   "source": [
    "To be precise,this course increased my intrest for knowledge of the Big Data landscape.  As I am  new to data science and interested in understanding why the Big Data Era has come to be,this course helped me out to have a clear understanding on that. I beacame more conversant with the terminology and the core concepts behind big data problems, applications, and systems.  It helped me to start think about how Big Data might be useful in their business or career."
   ]
  },
  {
   "cell_type": "raw",
   "metadata": {},
   "source": [
    "I am able to describe the Big Data landscape including examples of real world big data problems an analyze V’s of Big Data (volume, velocity, variety, veracity, valence, and value) and why each impacts data collection, monitoring, storage, analysis and reporting."
   ]
  },
  {
   "cell_type": "raw",
   "metadata": {},
   "source": [
    "Able to identify what are and what are not big data problems and be able to recast big data problems as data science questions. Install and run a program using python!"
   ]
  },
  {
   "cell_type": "raw",
   "metadata": {},
   "source": [
    "Comming into indepth of the course,I feel pandas helped me to solve most of my problems,moreover I am very happy to learn streams and clusters,especially apriori algorithm and its working.Hope I will see my carrer in big data and as noted its an ocean I will try to dig it as much as I can."
   ]
  },
  {
   "cell_type": "raw",
   "metadata": {},
   "source": [
    "Best thing in lecture is,professor is able to deal wide range of topics with clear explanation,and  I think this course would be better if we do more practice on those topics."
   ]
  }
 ],
 "metadata": {
  "kernelspec": {
   "display_name": "Python 2",
   "language": "python",
   "name": "python2"
  },
  "language_info": {
   "codemirror_mode": {
    "name": "ipython",
    "version": 2
   },
   "file_extension": ".py",
   "mimetype": "text/x-python",
   "name": "python",
   "nbconvert_exporter": "python",
   "pygments_lexer": "ipython2",
   "version": "2.7.13"
  }
 },
 "nbformat": 4,
 "nbformat_minor": 2
}
