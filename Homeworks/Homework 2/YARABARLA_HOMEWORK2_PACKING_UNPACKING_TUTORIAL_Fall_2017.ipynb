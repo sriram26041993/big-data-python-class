{
 "cells": [
  {
   "cell_type": "markdown",
   "metadata": {},
   "source": [
    "Packing and unpacking:\n",
    "When we don’t know how many arguments need to be passed to a python function, we can use Packing to pack all arguments in a tuple.\n",
    "\n",
    "we can make a function to do‘packing’ to pack all the arguments that this method call receives into one single variable. Once we have this ‘packed’ variable, we can do things with it that we would with a normal tuple. args[0] and args[1] would give you the first and second argument, respectively.\n"
   ]
  },
  {
   "cell_type": "code",
   "execution_count": 1,
   "metadata": {},
   "outputs": [
    {
     "name": "stdout",
     "output_type": "stream",
     "text": [
      "ram\n",
      "krishna\n",
      "(1, 2, 3, 4)\n"
     ]
    }
   ],
   "source": [
    "#packing:\n",
    "\n",
    "def name(*args):\n",
    " \n",
    " for i in range(0,len(args)):\n",
    " \n",
    "   print(args[i])\n",
    "\n",
    "name(\"ram\",\"krishna\")\n",
    "\n",
    "#Consider a situation where we have a function that receives four arguments. We want to make call to this function and we have a list of size 4 with us that has all arguments for the function. If we simply pass list to the function, the call doesn’t work.\n",
    "\n",
    "#unpacking:\n",
    "\n",
    "def fun(a, b, c, d):\n",
    "    print(a, b, c, d)\n",
    " \n",
    "my_list = [1, 2, 3, 4]\n",
    " \n",
    "fun(*my_list)"
   ]
  },
  {
   "cell_type": "code",
   "execution_count": null,
   "metadata": {
    "collapsed": true
   },
   "outputs": [],
   "source": []
  }
 ],
 "metadata": {
  "kernelspec": {
   "display_name": "Python 2",
   "language": "python",
   "name": "python2"
  },
  "language_info": {
   "codemirror_mode": {
    "name": "ipython",
    "version": 2
   },
   "file_extension": ".py",
   "mimetype": "text/x-python",
   "name": "python",
   "nbconvert_exporter": "python",
   "pygments_lexer": "ipython2",
   "version": "2.7.13"
  }
 },
 "nbformat": 4,
 "nbformat_minor": 2
}
