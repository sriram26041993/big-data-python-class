{
 "cells": [
  {
   "cell_type": "markdown",
   "metadata": {},
   "source": [
    "\n",
    "map() applies the function func to all the elements of the sequence seq. It returns a new list with the elements changed by function.\n",
    "\n",
    "For futher reference:\n",
    "https://www.python-course.eu/lambda.php"
   ]
  },
  {
   "cell_type": "code",
   "execution_count": 1,
   "metadata": {},
   "outputs": [
    {
     "name": "stdout",
     "output_type": "stream",
     "text": [
      "[3, 4, 5, 6, 7]\n",
      "[1, 4, 9, 16, 25]\n",
      "[1, 8, 27, 64, 125]\n"
     ]
    }
   ],
   "source": [
    "list =[1,2,3,4,5]\n",
    "\n",
    "result=map(lambda a: a+2,list)\n",
    "\n",
    "print(result)\n",
    "\n",
    "\n",
    "\n",
    "def squares(n):\n",
    "\n",
    " return (n**2)\n",
    "\n",
    "result1=map(squares,list)\n",
    "\n",
    "print(result1)\n",
    "\n",
    "\n",
    "\n",
    "result2=map(lambda x:x**3,list)\n",
    "\n",
    "print(result2)"
   ]
  },
  {
   "cell_type": "code",
   "execution_count": null,
   "metadata": {
    "collapsed": true
   },
   "outputs": [],
   "source": []
  }
 ],
 "metadata": {
  "kernelspec": {
   "display_name": "Python 2",
   "language": "python",
   "name": "python2"
  },
  "language_info": {
   "codemirror_mode": {
    "name": "ipython",
    "version": 2
   },
   "file_extension": ".py",
   "mimetype": "text/x-python",
   "name": "python",
   "nbconvert_exporter": "python",
   "pygments_lexer": "ipython2",
   "version": "2.7.13"
  }
 },
 "nbformat": 4,
 "nbformat_minor": 2
}
