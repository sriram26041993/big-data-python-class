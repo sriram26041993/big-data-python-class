{
 "cells": [
  {
   "cell_type": "markdown",
   "metadata": {},
   "source": [
    "A regular expression is a special sequence of characters that helps you match or find other strings or sets of strings, using a specialized syntax held in a pattern.module re\" provides full support for Perl-like regular expressions in Python.while dealing with regular expressions, we would use Raw Strings as r'expression'.\n",
    "\n",
    "Python offers two different primitive operations based on regular expressions: match checks for a match only at the beginning of the string, while search checks for a match anywhere in the string.\n",
    "\n",
    "\"sub\"method replaces all occurrences of the RE pattern in string with repl, substituting all occurrences unless max provided. \n",
    "\n",
    "For further reference:\n",
    "https://www.tutorialspoint.com/python/python_reg_expressions.htm"
   ]
  },
  {
   "cell_type": "code",
   "execution_count": 2,
   "metadata": {},
   "outputs": [
    {
     "name": "stdout",
     "output_type": "stream",
     "text": [
      "have\n",
      "this is not in the string\n"
     ]
    }
   ],
   "source": [
    "import re\n",
    "\n",
    "string = \"I have learnt regular expressions in python\"\n",
    "\n",
    "search = re.search(r'have',string,re.M|re.I)\n",
    "\n",
    "if search:\n",
    "  \n",
    "    print  search.group()\n",
    "\n",
    "else:\n",
    "  print(\"this is not in the string\")\n",
    " \n",
    " \n",
    "match = re.match(r'have',string,re.M|re.I)\n",
    "\n",
    "if match:\n",
    "\n",
    "  print  match.group()\n",
    "\n",
    "else:\n",
    "  print(\"this is not in the string\")\n",
    "\n"
   ]
  },
  {
   "cell_type": "code",
   "execution_count": null,
   "metadata": {
    "collapsed": true
   },
   "outputs": [],
   "source": []
  }
 ],
 "metadata": {
  "kernelspec": {
   "display_name": "Python 2",
   "language": "python",
   "name": "python2"
  },
  "language_info": {
   "codemirror_mode": {
    "name": "ipython",
    "version": 2
   },
   "file_extension": ".py",
   "mimetype": "text/x-python",
   "name": "python",
   "nbconvert_exporter": "python",
   "pygments_lexer": "ipython2",
   "version": "2.7.13"
  }
 },
 "nbformat": 4,
 "nbformat_minor": 2
}
