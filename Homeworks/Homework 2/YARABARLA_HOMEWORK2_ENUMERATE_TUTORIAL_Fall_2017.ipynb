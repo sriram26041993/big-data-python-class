{
 "cells": [
  {
   "cell_type": "markdown",
   "metadata": {},
   "source": [
    "Enumerate is a built-in function of Python.\n",
    "\n",
    "It allows us to loop over something and have an automatic counter.\n",
    "\n",
    "for further reference:\n",
    "http://book.pythontips.com/en/latest/enumerate.html"
   ]
  },
  {
   "cell_type": "code",
   "execution_count": 1,
   "metadata": {},
   "outputs": [
    {
     "name": "stdout",
     "output_type": "stream",
     "text": [
      "(0, 'Ferrari')\n",
      "(1, 'lambo')\n",
      "(2, 'nissan')\n",
      "(3, 'Audi')\n",
      "(4, 'BMW')\n",
      "--------------------\n",
      "(3, 'Ferrari')\n",
      "(4, 'lambo')\n",
      "(5, 'nissan')\n",
      "(6, 'Audi')\n",
      "(7, 'BMW')\n"
     ]
    }
   ],
   "source": [
    "list = ['Ferrari', 'lambo', 'nissan', 'Audi', 'BMW']\n",
    "for x, value in enumerate(list):\n",
    "    print(x, value)\n",
    "print(\"--------------------\")\n",
    "for y, value in enumerate(list,3):\n",
    "    print(y, value)"
   ]
  },
  {
   "cell_type": "code",
   "execution_count": null,
   "metadata": {
    "collapsed": true
   },
   "outputs": [],
   "source": []
  }
 ],
 "metadata": {
  "kernelspec": {
   "display_name": "Python 2",
   "language": "python",
   "name": "python2"
  },
  "language_info": {
   "codemirror_mode": {
    "name": "ipython",
    "version": 2
   },
   "file_extension": ".py",
   "mimetype": "text/x-python",
   "name": "python",
   "nbconvert_exporter": "python",
   "pygments_lexer": "ipython2",
   "version": "2.7.13"
  }
 },
 "nbformat": 4,
 "nbformat_minor": 2
}
