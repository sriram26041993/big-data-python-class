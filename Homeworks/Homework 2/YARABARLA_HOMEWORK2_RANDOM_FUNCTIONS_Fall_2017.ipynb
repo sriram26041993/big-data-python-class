{
 "cells": [
  {
   "cell_type": "markdown",
   "metadata": {},
   "source": [
    "The random module provides access to functions that support many operations,specially generate random numbers(randint function).\n",
    "\n",
    "choice function can often be used for choosing a random element from a list.\n",
    "shuffle function, shuffles the elements in list in place, so they are in a random order.\n",
    "we can randomly select elements from range(start, stop, step)\n"
   ]
  },
  {
   "cell_type": "code",
   "execution_count": 1,
   "metadata": {},
   "outputs": [
    {
     "name": "stdout",
     "output_type": "stream",
     "text": [
      "0.143833837578\n",
      "3\n",
      "[4, 5, 10, 9, 3, 8, 7, 1, 2, 6]\n",
      "[2, 6, 5, 3]\n"
     ]
    }
   ],
   "source": [
    "from random import *\n",
    "x=random()          #get a random number between 0,1.\n",
    "print(x)\n",
    "z=randint(1,10)     #get a random number between given integers\n",
    "print(z)\n",
    "items = [1, 2, 3, 4, 5, 6, 7, 8, 9, 10]\n",
    "shuffle(items)      #shuffle the items in a list.\n",
    "print items\n",
    "y = sample(items, 4)    # Pick 4 random items from the list\n",
    "print (y)"
   ]
  },
  {
   "cell_type": "code",
   "execution_count": null,
   "metadata": {
    "collapsed": true
   },
   "outputs": [],
   "source": []
  }
 ],
 "metadata": {
  "kernelspec": {
   "display_name": "Python 2",
   "language": "python",
   "name": "python2"
  },
  "language_info": {
   "codemirror_mode": {
    "name": "ipython",
    "version": 2
   },
   "file_extension": ".py",
   "mimetype": "text/x-python",
   "name": "python",
   "nbconvert_exporter": "python",
   "pygments_lexer": "ipython2",
   "version": "2.7.13"
  }
 },
 "nbformat": 4,
 "nbformat_minor": 2
}
