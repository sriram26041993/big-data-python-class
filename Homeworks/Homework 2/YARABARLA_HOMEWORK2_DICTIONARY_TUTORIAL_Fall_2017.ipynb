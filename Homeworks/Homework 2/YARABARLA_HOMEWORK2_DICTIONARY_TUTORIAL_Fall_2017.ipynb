{
 "cells": [
  {
   "cell_type": "markdown",
   "metadata": {},
   "source": [
    "A dictionary is an associative array,any key of the dictionary is associated or mapped to a value. The values of a dictionary can be any Python data type. So dictionaries are unordered key-value-pairs.\n",
    "\n",
    "Items in dictionaries are accessed via keys and not via their position like in lists.\n",
    "\n",
    "Each key is separated from its value by a colon (:), the items are separated by commas, and the whole thing is enclosed in curly braces.\n",
    "\n",
    "Dictionaries don't support the sequence operation of the sequence data types like strings, tuples and lists. Dictionaries belong to the built-in mapping type. \n",
    "\n",
    "Only immutable data types can be used as keys"
   ]
  },
  {
   "cell_type": "code",
   "execution_count": 2,
   "metadata": {},
   "outputs": [
    {
     "name": "stdout",
     "output_type": "stream",
     "text": [
      "ram\n",
      "{'age': 24, 'school': 'Villanova', 'name': 'ram', 'degree': 'Masters', 'sex': 'male'}\n",
      "{'age': 24, 'school': 'Villanova', 'name': 'ram', 'degree': 'Masters'}\n",
      "{'school': 'Villanova', 'name': 'sri', 'degree': 'Masters', 'age': 24, 'job': 'Acess service technician'}\n",
      "age\n",
      "school\n",
      "name\n",
      "degree\n",
      "['age', 'school', 'name', 'degree']\n",
      "[24, 'Villanova', 'ram', 'Masters']\n",
      "[('age', 24), ('school', 'Villanova'), ('name', 'ram'), ('degree', 'Masters')]\n"
     ]
    }
   ],
   "source": [
    "dict={\"name\":\"ram\",\"age\":24,\"sex\":\"male\"}  #creating dictionary\n",
    "print(dict[\"name\"])\n",
    "dict[\"school\"]=\"Villanova\"                 #updating dictionary\n",
    "dict[\"degree\"]=\"Masters\"\n",
    "print(dict)\n",
    "del dict[\"sex\"]                            #deleting dictionary\n",
    "print(dict)\n",
    "dict1={\"name\":\"sri\",\"job\":\"Acess service technician\"} \n",
    "mergedict = dict.copy()\n",
    "mergedict.update(dict1)                    #merging two dictionaries\n",
    "print (mergedict)\n",
    "for a in dict :\n",
    "  print (a)\n",
    "                            #loop over\n",
    "print( dict.keys())\n",
    "print (dict.values())\n",
    "print (dict.items())"
   ]
  },
  {
   "cell_type": "markdown",
   "metadata": {},
   "source": [
    "There is much to know about merging the dictionaries,the result of the merge depends on the order of the dictionaries given to the merge statment.one can see the difference only when two dictionaries have some keys in common. \n",
    "\n",
    "keys:method keys() returns a list of all the available keys in the dictionary.\n",
    "\n",
    "values:method values() returns a list of all the values available in a given dictionary.\n",
    "\n",
    "items:Method items() returns a list of dict's (key, value) tuple pairs\n",
    "\n",
    "\n",
    "\n",
    "for further reference:\n",
    "https://www.tutorialspoint.com/python/dictionary_values.htm"
   ]
  },
  {
   "cell_type": "code",
   "execution_count": null,
   "metadata": {
    "collapsed": true
   },
   "outputs": [],
   "source": []
  }
 ],
 "metadata": {
  "kernelspec": {
   "display_name": "Python 2",
   "language": "python",
   "name": "python2"
  },
  "language_info": {
   "codemirror_mode": {
    "name": "ipython",
    "version": 2
   },
   "file_extension": ".py",
   "mimetype": "text/x-python",
   "name": "python",
   "nbconvert_exporter": "python",
   "pygments_lexer": "ipython2",
   "version": "2.7.13"
  }
 },
 "nbformat": 4,
 "nbformat_minor": 2
}
