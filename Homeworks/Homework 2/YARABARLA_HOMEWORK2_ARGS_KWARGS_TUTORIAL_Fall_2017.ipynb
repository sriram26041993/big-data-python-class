{
 "cells": [
  {
   "cell_type": "markdown",
   "metadata": {},
   "source": [
    "*args and **kwargs allow you to pass a variable number of arguments to a function.\n",
    "*args is used to send a non-keyworded variable length argument list to the function. "
   ]
  },
  {
   "cell_type": "code",
   "execution_count": 5,
   "metadata": {},
   "outputs": [
    {
     "name": "stdout",
     "output_type": "stream",
     "text": [
      "('printing first argument:', 'sriram')\n",
      "('printing many arguments:', 'sampath')\n",
      "('printing many arguments:', 'nikita')\n",
      "('printing many arguments:', 'supraja')\n",
      "('printing many arguments:', 'shusrusha')\n",
      "('printing many arguments:', 'sravani')\n"
     ]
    }
   ],
   "source": [
    "def args(one,*many):\n",
    " print (\"printing first argument:\", one)\n",
    " for argument in many:\n",
    "       print(\"printing many arguments:\", argument)\n",
    "args(\"sriram\",\"sampath\",\"nikita\",\"supraja\",\"shusrusha\",\"sravani\")"
   ]
  },
  {
   "cell_type": "markdown",
   "metadata": {},
   "source": [
    "**kwargs allows you to pass keyworded variable length of arguments to a function. You should use **kwargs if you want to handle named arguments in a function."
   ]
  },
  {
   "cell_type": "code",
   "execution_count": 7,
   "metadata": {},
   "outputs": [
    {
     "name": "stdout",
     "output_type": "stream",
     "text": [
      "friend2 = uday\n",
      "friend1 = sunil\n"
     ]
    }
   ],
   "source": [
    "def friend(**kwargs):\n",
    "    for name, value in kwargs.items():\n",
    "       print( '{0} = {1}'.format(name, value))\n",
    "       \n",
    "friend(friend1 = 'sunil', friend2 = 'uday')"
   ]
  },
  {
   "cell_type": "code",
   "execution_count": null,
   "metadata": {
    "collapsed": true
   },
   "outputs": [],
   "source": []
  }
 ],
 "metadata": {
  "kernelspec": {
   "display_name": "Python 2",
   "language": "python",
   "name": "python2"
  },
  "language_info": {
   "codemirror_mode": {
    "name": "ipython",
    "version": 2
   },
   "file_extension": ".py",
   "mimetype": "text/x-python",
   "name": "python",
   "nbconvert_exporter": "python",
   "pygments_lexer": "ipython2",
   "version": "2.7.13"
  }
 },
 "nbformat": 4,
 "nbformat_minor": 2
}
