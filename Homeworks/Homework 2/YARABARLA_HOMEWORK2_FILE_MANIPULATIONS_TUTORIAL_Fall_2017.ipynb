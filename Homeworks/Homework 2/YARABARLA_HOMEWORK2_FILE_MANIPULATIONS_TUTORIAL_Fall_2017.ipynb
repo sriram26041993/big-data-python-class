{
 "cells": [
  {
   "cell_type": "markdown",
   "metadata": {},
   "source": [
    "Python provides two built-in functions to read a line of text from standard input, which by default comes from the keyboard. These functions are raw_input and input.\n",
    "The raw_input([prompt]) function reads one line from standard input and returns it as a string\n",
    "The input([prompt]) function is equivalent to raw_input, except that it assumes the input is a valid Python expression and returns the evaluated result to you.\n",
    "Python provides basic functions and methods necessary to manipulate files by default. You can do most of the file manipulation using a file object.\n",
    "\n",
    "open():Before you can read or write a file, you have to open it using Python's built-in open() function. This function creates a file object, which would be utilized to call other support methods associated with it.\n",
    "\n",
    "close():The close() method of a file object flushes any unwritten information and closes the file object, after which no more writing can be done.Python automatically closes a file when the reference object of a file is reassigned to another file. It is a good practice to use the close() method to close a file.\n",
    "\n",
    "write():The write() method writes any string to an open file. It is important to note that Python strings can have binary data and not just text.\n",
    "\n",
    "read():The read() method reads a string from an open file. It is important to note that Python strings can have binary data. apart from text data.\n",
    "\n",
    "tell() method tells you the current position within the file; in other words, the next read or write will occur at that many bytes from the beginning of the file.\n",
    "\n",
    "seek(offset[, from]) method changes the current file position. The offset argument indicates the number of bytes to be moved. The from argument specifies the reference position from where the bytes are to be moved.\n",
    "if from= 0, it means use the beginning of the file as the reference position \n",
    "if from= 1, it means use the current position as the reference position \n",
    "if from= 2, then the end of the file would be taken as the reference position.\n",
    "\n",
    "rename() method takes two arguments, the current filename and the new filename.\n",
    "\n",
    "remove() method to delete files by supplying the name of the file to be deleted as the argument.\n",
    "\n",
    "mkdir() method of the os module to create directories in the current directory. You need to supply an argument to this method which contains the name of the directory to be created.\n",
    "\n",
    "chdir() method to change the current directory. The chdir() method takes an argument, which is the name of the directory that you want to make the current directory.\n",
    "\n",
    "getcwd() method displays the current working directory. \n",
    "\n",
    "rmdir() method deletes the directory, which is passed as an argument in the method.\n",
    "\n",
    "For further reference:\n",
    "https://www.tutorialspoint.com/python/python_files_io.htm"
   ]
  },
  {
   "cell_type": "code",
   "execution_count": 3,
   "metadata": {},
   "outputs": [
    {
     "name": "stdout",
     "output_type": "stream",
     "text": [
      "enter your name:sriram\n",
      "sriram\n",
      "enter your input100*2\n",
      "200\n",
      "ram.txt\n",
      "w+\n"
     ]
    }
   ],
   "source": [
    "import os\n",
    "\n",
    "\n",
    "given= raw_input(\"enter your name:\")       #raw_input\n",
    "\n",
    "print(given)\n",
    "\n",
    "given1=input(\"enter your input\")           #input\n",
    "\n",
    "print(given1)\n",
    "\n",
    "firstfile=open(\"ram.txt\",\"w+\")             #open a file\n",
    "\n",
    "print firstfile.name\n",
    "\n",
    "print firstfile.mode\n",
    "\n",
    "firstfile.write(\"I am very good girl said me old teahcer,my dear brother!!\") #write to a file\n",
    "\n",
    "str = firstfile.read(10);                  #read a file\n",
    "\n",
    "firstfile.close()                         #closing the opened file.\n",
    "#os.rename( \"ram.txt\", \"ram1.txt\" )        #renaming a file\n",
    "\n",
    "#os.remove(\"ram,txt\")                      #deleting a file\n"
   ]
  },
  {
   "cell_type": "code",
   "execution_count": null,
   "metadata": {
    "collapsed": true
   },
   "outputs": [],
   "source": []
  }
 ],
 "metadata": {
  "kernelspec": {
   "display_name": "Python 2",
   "language": "python",
   "name": "python2"
  },
  "language_info": {
   "codemirror_mode": {
    "name": "ipython",
    "version": 2
   },
   "file_extension": ".py",
   "mimetype": "text/x-python",
   "name": "python",
   "nbconvert_exporter": "python",
   "pygments_lexer": "ipython2",
   "version": "2.7.13"
  }
 },
 "nbformat": 4,
 "nbformat_minor": 2
}
