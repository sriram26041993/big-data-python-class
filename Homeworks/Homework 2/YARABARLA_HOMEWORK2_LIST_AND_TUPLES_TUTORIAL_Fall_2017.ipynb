{
 "cells": [
  {
   "cell_type": "markdown",
   "metadata": {},
   "source": [
    "In one sentence,tuples are lists which can't be edited, which means tuples have a fixed size.\n",
    "\n",
    "The first difference that I have found that, Tuples are heterogeneous data structures (i.e., their entries have different meanings), while lists are homogeneous sequences.But I think this is not correct because Tuples and lists may be either heterogeneous or homogeneous. (1,2), (1,'b'), [1,2] and [1,'b'] are all valid as are things like [1,(2,[3])]. While it may be the case that some developers use tuples for heterogeneous sets and others use lists for homogeneous sets, it's misleading to say that's the difference between the two.\n",
    "\n",
    "\n",
    "Tuples (generally) are sequences of different kinds of stuff, and you deal with the tuple as a coherent unit.\n",
    "Lists (generally) are sequences of the same kind of stuff, and you deal with the items individually.\n",
    "\n",
    "A tuple, is a sequence in which position has semantic value.\n",
    "A list, is a sequence where we may care about order, but where the individual values are functionally equivalent.\n",
    "\n",
    "Tuples have no index method for identifying the position at which a particular value is found.\n",
    "List elements are identified by indexing.\n",
    "But I feel this is also wrong,even tuples can be indexed.\n",
    "\n",
    "generally any function in python is started with the key word \"def\", and it is defined one or more statments under it.\n",
    "but there are also some anonymus fuctions with only one line statments,those annonymus fuctions are called as lambda functions.\n",
    "Lambda functions can also be applied with lists and tuples,examples are shown below.\n",
    "\n",
    "for further reference:\n",
    "https://stackoverflow.com/questions/626759/whats-the-difference-between-lists-and-tuples\n",
    "http://news.e-scribe.com/397"
   ]
  },
  {
   "cell_type": "code",
   "execution_count": 1,
   "metadata": {
    "collapsed": false
   },
   "outputs": [
    {
     "name": "stdout",
     "output_type": "stream",
     "text": [
      "[9, 12, 15]\n",
      "[6, 9, 12, 15]\n",
      "9\n",
      "[1, 4, 27, 256, 3125]\n",
      "[1, 4, 27, 256, 3125]\n"
     ]
    }
   ],
   "source": [
    "#example for lists and tuples\n",
    "list=[1,1.0,'r',\"ram\"]\n",
    "\n",
    "tuple=(2,2.0,'s',\"sri\")\n",
    "\n",
    "list1=[1,2,3,4,5]\n",
    "\n",
    "tuple1=(1,2,3,4,5)\n",
    "\n",
    "list.append(\"sriram\")\n",
    "\n",
    "#tulpe.append(\"sriram\") #tuples cannot be edited.\n",
    "print([a*3 for a in list1 if a>2])\n",
    "\n",
    "print([a*3 for a in tuple1 if a>1])\n",
    "\n",
    "for z in list1:\n",
    "    if z==3:\n",
    "        print(z**2)\n",
    "listresult=[(lambda x: x**x) (x) for x in list1]\n",
    "\n",
    "tupleresult=[(lambda x: x**x) (x) for x in tuple1]\n",
    "\n",
    "print(listresult)\n",
    "\n",
    "print(tupleresult)"
   ]
  },
  {
   "cell_type": "code",
   "execution_count": null,
   "metadata": {
    "collapsed": true
   },
   "outputs": [],
   "source": []
  }
 ],
 "metadata": {
  "kernelspec": {
   "display_name": "Python 2",
   "language": "python",
   "name": "python2"
  },
  "language_info": {
   "codemirror_mode": {
    "name": "ipython",
    "version": 2
   },
   "file_extension": ".py",
   "mimetype": "text/x-python",
   "name": "python",
   "nbconvert_exporter": "python",
   "pygments_lexer": "ipython2",
   "version": "2.7.12"
  }
 },
 "nbformat": 4,
 "nbformat_minor": 1
}
