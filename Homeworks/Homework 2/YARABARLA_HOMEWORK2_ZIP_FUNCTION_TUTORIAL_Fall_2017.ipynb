{
 "cells": [
  {
   "cell_type": "code",
   "execution_count": 1,
   "metadata": {},
   "outputs": [
    {
     "name": "stdout",
     "output_type": "stream",
     "text": [
      "[('Ferrari', 'style'), ('lambo', 'fast'), ('nissan', 'horse power'), ('Audi', 'look'), ('BMW', 'comfort')]\n"
     ]
    }
   ],
   "source": [
    "#ZIP function takes two equal-length collections, and merges them together in pairs.\n",
    " \n",
    "list1 = ['Ferrari', 'lambo', 'nissan', 'Audi', 'BMW']\n",
    "list2 = ['style','fast','horse power','look','comfort']\n",
    "print(zip(list1,list2))"
   ]
  },
  {
   "cell_type": "code",
   "execution_count": null,
   "metadata": {
    "collapsed": true
   },
   "outputs": [],
   "source": []
  }
 ],
 "metadata": {
  "kernelspec": {
   "display_name": "Python 2",
   "language": "python",
   "name": "python2"
  },
  "language_info": {
   "codemirror_mode": {
    "name": "ipython",
    "version": 2
   },
   "file_extension": ".py",
   "mimetype": "text/x-python",
   "name": "python",
   "nbconvert_exporter": "python",
   "pygments_lexer": "ipython2",
   "version": "2.7.13"
  }
 },
 "nbformat": 4,
 "nbformat_minor": 2
}
