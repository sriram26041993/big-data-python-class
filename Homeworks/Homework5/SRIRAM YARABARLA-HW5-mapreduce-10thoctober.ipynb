{
 "cells": [
  {
   "cell_type": "markdown",
   "metadata": {},
   "source": [
    "# Homework 5\n",
    "\n",
    "\n",
    "##Homework 5.1 A bigram is the combination of words. Find the 10 most common bigrams from the text. Order counts in the bigram combination for example \"in the\" is not the same bigram as \"the in\""
   ]
  },
  {
   "cell_type": "code",
   "execution_count": null,
   "metadata": {},
   "outputs": [],
   "source": [
    "# %load MRbigramfreqCount.py\n",
    "import pandas as pd\n",
    "import numpy as np\n",
    "import matplotlib as mpl\n",
    "import mrjob as mr\n",
    "from mrjob.job import MRJob\n",
    "import re\n",
    "\n",
    "WORD_RE = re.compile(r\"[\\w']+\")\n",
    "\n",
    "class MRbigramfreqCount(MRJob):\n",
    "\n",
    "    def mapper(self, _, line):\n",
    "        \n",
    "        lastword=\"\"\n",
    "        for word in WORD_RE.findall(line):\n",
    "            if  lastword !=\"\" and word !=\"\":           \n",
    "                yield (lastword.lower(),word.lower()), 1\n",
    "            lastword=word\n",
    "\n",
    "    def combiner(self, bigram, counts):\n",
    "        yield bigram, sum(counts)\n",
    "\n",
    "    def reducer(self,bigram, counts):\n",
    "        yield bigram, sum(counts)\n",
    "\n",
    "\n",
    "if __name__ == '__main__':\n",
    "    MRbigramfreqCount.run()"
   ]
  },
  {
   "cell_type": "code",
   "execution_count": 61,
   "metadata": {},
   "outputs": [
    {
     "name": "stderr",
     "output_type": "stream",
     "text": [
      "INFO:mrjob.conf:No configs found; falling back on auto-configuration\n",
      "INFO:mrjob.runner:Creating temp directory c:\\users\\srira\\appdata\\local\\temp\\MRbigramfreqCount.sriram.20171017.215425.805000\n",
      "INFO:mrjob.sim:Running step 1 of 1...\n",
      "INFO:mrjob.runner:Streaming final output from c:\\users\\srira\\appdata\\local\\temp\\MRbigramfreqCount.sriram.20171017.215425.805000\\output...\n",
      "INFO:mrjob.runner:Removing temp directory c:\\users\\srira\\appdata\\local\\temp\\MRbigramfreqCount.sriram.20171017.215425.805000...\n"
     ]
    }
   ],
   "source": [
    "%%capture MRbigramfreqCount\n",
    "run MRbigramfreqCount.py ws5.txt\n"
   ]
  },
  {
   "cell_type": "code",
   "execution_count": 62,
   "metadata": {
    "collapsed": true
   },
   "outputs": [],
   "source": [
    "with open('MRbigramfreqCount.txt', 'w') as f:\n",
    "    f.write(MRbigramfreqCount.stdout)\n"
   ]
  },
  {
   "cell_type": "code",
   "execution_count": 63,
   "metadata": {},
   "outputs": [
    {
     "data": {
      "text/html": [
       "<div>\n",
       "<style>\n",
       "    .dataframe thead tr:only-child th {\n",
       "        text-align: right;\n",
       "    }\n",
       "\n",
       "    .dataframe thead th {\n",
       "        text-align: left;\n",
       "    }\n",
       "\n",
       "    .dataframe tbody tr th {\n",
       "        vertical-align: top;\n",
       "    }\n",
       "</style>\n",
       "<table border=\"1\" class=\"dataframe\">\n",
       "  <thead>\n",
       "    <tr style=\"text-align: right;\">\n",
       "      <th></th>\n",
       "      <th>0</th>\n",
       "      <th>1</th>\n",
       "    </tr>\n",
       "  </thead>\n",
       "  <tbody>\n",
       "    <tr>\n",
       "      <th>252901</th>\n",
       "      <td>[\"of\", \"the\"]</td>\n",
       "      <td>13037</td>\n",
       "    </tr>\n",
       "    <tr>\n",
       "      <th>29195</th>\n",
       "      <td>[\"and\", \"the\"]</td>\n",
       "      <td>7034</td>\n",
       "    </tr>\n",
       "    <tr>\n",
       "      <th>345164</th>\n",
       "      <td>[\"the\", \"lord\"]</td>\n",
       "      <td>7017</td>\n",
       "    </tr>\n",
       "    <tr>\n",
       "      <th>180555</th>\n",
       "      <td>[\"in\", \"the\"]</td>\n",
       "      <td>6738</td>\n",
       "    </tr>\n",
       "    <tr>\n",
       "      <th>372817</th>\n",
       "      <td>[\"to\", \"the\"]</td>\n",
       "      <td>3799</td>\n",
       "    </tr>\n",
       "    <tr>\n",
       "      <th>176156</th>\n",
       "      <td>[\"i\", \"will\"]</td>\n",
       "      <td>3470</td>\n",
       "    </tr>\n",
       "    <tr>\n",
       "      <th>25167</th>\n",
       "      <td>[\"and\", \"he\"]</td>\n",
       "      <td>3020</td>\n",
       "    </tr>\n",
       "    <tr>\n",
       "      <th>304625</th>\n",
       "      <td>[\"shall\", \"be\"]</td>\n",
       "      <td>3013</td>\n",
       "    </tr>\n",
       "    <tr>\n",
       "      <th>17930</th>\n",
       "      <td>[\"all\", \"the\"]</td>\n",
       "      <td>2714</td>\n",
       "    </tr>\n",
       "    <tr>\n",
       "      <th>175127</th>\n",
       "      <td>[\"i\", \"have\"]</td>\n",
       "      <td>2666</td>\n",
       "    </tr>\n",
       "  </tbody>\n",
       "</table>\n",
       "</div>"
      ],
      "text/plain": [
       "                      0      1\n",
       "252901    [\"of\", \"the\"]  13037\n",
       "29195    [\"and\", \"the\"]   7034\n",
       "345164  [\"the\", \"lord\"]   7017\n",
       "180555    [\"in\", \"the\"]   6738\n",
       "372817    [\"to\", \"the\"]   3799\n",
       "176156    [\"i\", \"will\"]   3470\n",
       "25167     [\"and\", \"he\"]   3020\n",
       "304625  [\"shall\", \"be\"]   3013\n",
       "17930    [\"all\", \"the\"]   2714\n",
       "175127    [\"i\", \"have\"]   2666"
      ]
     },
     "execution_count": 63,
     "metadata": {},
     "output_type": "execute_result"
    }
   ],
   "source": [
    "BigramFile = pd.read_csv(\"MRbigramfreqCount.txt\", sep=\"\\t\", header=None)\n",
    "sort_val = BigramFile.sort_values(1, ascending=False)\n",
    "sort_val[[0,1]].head(10)"
   ]
  },
  {
   "cell_type": "markdown",
   "metadata": {},
   "source": [
    "# Homework 5.2\n",
    "Now do the same analysis but make the word order not count \"in the\" == \"the in\". Find the 10 most common ordered bigrams from the alice text. "
   ]
  },
  {
   "cell_type": "code",
   "execution_count": null,
   "metadata": {},
   "outputs": [],
   "source": [
    "# %load MRbigramfreqCount2.py\n",
    "\n",
    "from mrjob.job import MRJob\n",
    "import re\n",
    "WORD_RE = re.compile(r\"[\\w']+\")\n",
    "\n",
    "\n",
    "class MRbigramfreqCount2(MRJob):\n",
    "                \n",
    "    def mapper(self, _, line):\n",
    "        lastword=\"\"\n",
    "        t = []\n",
    "        for word in WORD_RE.findall(line):\n",
    "            if lastword !=\"\" and word !=\"\": \n",
    "                r= (lastword.lower(), word.lower())\n",
    "                yield r, 1\n",
    "            lastword=word \n",
    "            \n",
    "    def combiner(self, key, counts):\n",
    "        yield sorted(key), sum(counts)\n",
    "\n",
    "    def reducer(self, key, counts):\n",
    "        yield sorted(key), sum(counts)\n",
    "        \n",
    "\n",
    "if __name__ == '__main__':\n",
    "    MRbigramfreqCount2.run()"
   ]
  },
  {
   "cell_type": "code",
   "execution_count": 29,
   "metadata": {
    "collapsed": true
   },
   "outputs": [],
   "source": [
    "%%capture MRbigramfreqCount2\n",
    "%run MRbigramfreqCount2.py ws5.txt"
   ]
  },
  {
   "cell_type": "code",
   "execution_count": 30,
   "metadata": {
    "collapsed": true
   },
   "outputs": [],
   "source": [
    "with open('MRbigramfreqCount2.txt', 'w') as f:\n",
    "    f.write(MRbigramfreqCount2.stdout)"
   ]
  },
  {
   "cell_type": "code",
   "execution_count": 31,
   "metadata": {},
   "outputs": [
    {
     "data": {
      "text/html": [
       "<div>\n",
       "<style>\n",
       "    .dataframe thead tr:only-child th {\n",
       "        text-align: right;\n",
       "    }\n",
       "\n",
       "    .dataframe thead th {\n",
       "        text-align: left;\n",
       "    }\n",
       "\n",
       "    .dataframe tbody tr th {\n",
       "        vertical-align: top;\n",
       "    }\n",
       "</style>\n",
       "<table border=\"1\" class=\"dataframe\">\n",
       "  <thead>\n",
       "    <tr style=\"text-align: right;\">\n",
       "      <th></th>\n",
       "      <th>0</th>\n",
       "      <th>1</th>\n",
       "    </tr>\n",
       "  </thead>\n",
       "  <tbody>\n",
       "    <tr>\n",
       "      <th>321326</th>\n",
       "      <td>[\"of\", \"the\"]</td>\n",
       "      <td>13037</td>\n",
       "    </tr>\n",
       "    <tr>\n",
       "      <th>286372</th>\n",
       "      <td>[\"lord\", \"the\"]</td>\n",
       "      <td>7244</td>\n",
       "    </tr>\n",
       "    <tr>\n",
       "      <th>45765</th>\n",
       "      <td>[\"and\", \"the\"]</td>\n",
       "      <td>7034</td>\n",
       "    </tr>\n",
       "    <tr>\n",
       "      <th>258204</th>\n",
       "      <td>[\"in\", \"the\"]</td>\n",
       "      <td>6739</td>\n",
       "    </tr>\n",
       "    <tr>\n",
       "      <th>252751</th>\n",
       "      <td>[\"i\", \"will\"]</td>\n",
       "      <td>4100</td>\n",
       "    </tr>\n",
       "    <tr>\n",
       "      <th>373435</th>\n",
       "      <td>[\"the\", \"to\"]</td>\n",
       "      <td>3799</td>\n",
       "    </tr>\n",
       "    <tr>\n",
       "      <th>39432</th>\n",
       "      <td>[\"and\", \"he\"]</td>\n",
       "      <td>3129</td>\n",
       "    </tr>\n",
       "    <tr>\n",
       "      <th>226608</th>\n",
       "      <td>[\"have\", \"i\"]</td>\n",
       "      <td>3123</td>\n",
       "    </tr>\n",
       "    <tr>\n",
       "      <th>73991</th>\n",
       "      <td>[\"be\", \"shall\"]</td>\n",
       "      <td>3015</td>\n",
       "    </tr>\n",
       "    <tr>\n",
       "      <th>30776</th>\n",
       "      <td>[\"am\", \"i\"]</td>\n",
       "      <td>2881</td>\n",
       "    </tr>\n",
       "  </tbody>\n",
       "</table>\n",
       "</div>"
      ],
      "text/plain": [
       "                      0      1\n",
       "321326    [\"of\", \"the\"]  13037\n",
       "286372  [\"lord\", \"the\"]   7244\n",
       "45765    [\"and\", \"the\"]   7034\n",
       "258204    [\"in\", \"the\"]   6739\n",
       "252751    [\"i\", \"will\"]   4100\n",
       "373435    [\"the\", \"to\"]   3799\n",
       "39432     [\"and\", \"he\"]   3129\n",
       "226608    [\"have\", \"i\"]   3123\n",
       "73991   [\"be\", \"shall\"]   3015\n",
       "30776       [\"am\", \"i\"]   2881"
      ]
     },
     "execution_count": 31,
     "metadata": {},
     "output_type": "execute_result"
    }
   ],
   "source": [
    "BigramFile1 = pd.read_csv(\"MRbigramfreqCount2.txt\", sep=\"\\t\", header=None)\n",
    "sort_val1 = BigramFile1.sort_values(1, ascending=False)\n",
    "Bigram_data = sort_val1[[0,1]].head(10)\n",
    "Bigram_data"
   ]
  },
  {
   "cell_type": "markdown",
   "metadata": {},
   "source": [
    "# Homework 5.3\n",
    "A trigram are three word combintation. Find the 10 most common ordered trigrams from the alice text. Make it so that the order of the words do not count in the trigram combination for example \"in the air\" is the same trigram as \"the air in\" or \"air in the\"..."
   ]
  },
  {
   "cell_type": "code",
   "execution_count": null,
   "metadata": {},
   "outputs": [],
   "source": [
    "#This solution idea is from the following URL\n",
    "#https://stackoverflow.com/questions/22138230/mapreduce-how-to-keep-track-of-states-across-multiple-lines-in-the-mapper-say\n",
    "\n",
    "# %load MRTrigramFreqCount.py\n",
    "from mrjob.job import MRJob\n",
    "import re\n",
    "\n",
    "WORD_RE = re.compile(r\"[\\w']+\")\n",
    "\n",
    "\n",
    "class MRTrigramFreqCount(MRJob):\n",
    "\n",
    "    def mapper(self, _, line):\n",
    "        words = WORD_RE.findall(line)\n",
    "        for i, word in enumerate(words):\n",
    "            if i < len(words) - 2:\n",
    "                trigram = [words[i].lower(), words[i + 1].lower(), words[i + 2].lower()]\n",
    "                yield trigram, 1 \n",
    "                \n",
    "    def combiner(self, key, counts):\n",
    "        yield sorted(key), sum(counts)\n",
    "\n",
    "    def reducer(self, key, counts):\n",
    "        yield sorted(key), sum(counts)\n",
    "        \n",
    "\n",
    "if __name__ == '__main__':\n",
    "    MRTrigramFreqCount.run()"
   ]
  },
  {
   "cell_type": "code",
   "execution_count": 114,
   "metadata": {},
   "outputs": [
    {
     "name": "stderr",
     "output_type": "stream",
     "text": [
      "INFO:mrjob.conf:No configs found; falling back on auto-configuration\n",
      "INFO:mrjob.runner:Creating temp directory c:\\users\\srira\\appdata\\local\\temp\\MRTrigramFreqCount.sriram.20171017.223647.037000\n",
      "INFO:mrjob.sim:Running step 1 of 1...\n",
      "INFO:mrjob.runner:Streaming final output from c:\\users\\srira\\appdata\\local\\temp\\MRTrigramFreqCount.sriram.20171017.223647.037000\\output...\n",
      "INFO:mrjob.runner:Removing temp directory c:\\users\\srira\\appdata\\local\\temp\\MRTrigramFreqCount.sriram.20171017.223647.037000...\n"
     ]
    }
   ],
   "source": [
    "%%capture MRTrigramFreqCount\n",
    "%run MRTrigramFreqCount.py ws5.txt"
   ]
  },
  {
   "cell_type": "code",
   "execution_count": 115,
   "metadata": {
    "collapsed": true
   },
   "outputs": [],
   "source": [
    "with open('MRTrigramFreqCount.txt', 'w') as f:\n",
    "    f.write(MRTrigramFreqCount.stdout)"
   ]
  },
  {
   "cell_type": "code",
   "execution_count": 116,
   "metadata": {},
   "outputs": [
    {
     "data": {
      "text/html": [
       "<div>\n",
       "<style>\n",
       "    .dataframe thead tr:only-child th {\n",
       "        text-align: right;\n",
       "    }\n",
       "\n",
       "    .dataframe thead th {\n",
       "        text-align: left;\n",
       "    }\n",
       "\n",
       "    .dataframe tbody tr th {\n",
       "        vertical-align: top;\n",
       "    }\n",
       "</style>\n",
       "<table border=\"1\" class=\"dataframe\">\n",
       "  <thead>\n",
       "    <tr style=\"text-align: right;\">\n",
       "      <th></th>\n",
       "      <th>0</th>\n",
       "      <th>1</th>\n",
       "    </tr>\n",
       "  </thead>\n",
       "  <tbody>\n",
       "    <tr>\n",
       "      <th>734691</th>\n",
       "      <td>[\"lord\", \"of\", \"the\"]</td>\n",
       "      <td>2053</td>\n",
       "    </tr>\n",
       "    <tr>\n",
       "      <th>369974</th>\n",
       "      <td>[\"children\", \"of\", \"the\"]</td>\n",
       "      <td>1794</td>\n",
       "    </tr>\n",
       "    <tr>\n",
       "      <th>650597</th>\n",
       "      <td>[\"house\", \"of\", \"the\"]</td>\n",
       "      <td>1581</td>\n",
       "    </tr>\n",
       "    <tr>\n",
       "      <th>793392</th>\n",
       "      <td>[\"of\", \"son\", \"the\"]</td>\n",
       "      <td>1523</td>\n",
       "    </tr>\n",
       "    <tr>\n",
       "      <th>165359</th>\n",
       "      <td>[\"and\", \"lord\", \"the\"]</td>\n",
       "      <td>1187</td>\n",
       "    </tr>\n",
       "    <tr>\n",
       "      <th>718826</th>\n",
       "      <td>[\"land\", \"of\", \"the\"]</td>\n",
       "      <td>1025</td>\n",
       "    </tr>\n",
       "    <tr>\n",
       "      <th>735115</th>\n",
       "      <td>[\"lord\", \"saith\", \"the\"]</td>\n",
       "      <td>866</td>\n",
       "    </tr>\n",
       "    <tr>\n",
       "      <th>788619</th>\n",
       "      <td>[\"of\", \"out\", \"the\"]</td>\n",
       "      <td>855</td>\n",
       "    </tr>\n",
       "    <tr>\n",
       "      <th>156903</th>\n",
       "      <td>[\"and\", \"i\", \"will\"]</td>\n",
       "      <td>813</td>\n",
       "    </tr>\n",
       "    <tr>\n",
       "      <th>793464</th>\n",
       "      <td>[\"of\", \"sons\", \"the\"]</td>\n",
       "      <td>762</td>\n",
       "    </tr>\n",
       "  </tbody>\n",
       "</table>\n",
       "</div>"
      ],
      "text/plain": [
       "                                0     1\n",
       "734691      [\"lord\", \"of\", \"the\"]  2053\n",
       "369974  [\"children\", \"of\", \"the\"]  1794\n",
       "650597     [\"house\", \"of\", \"the\"]  1581\n",
       "793392       [\"of\", \"son\", \"the\"]  1523\n",
       "165359     [\"and\", \"lord\", \"the\"]  1187\n",
       "718826      [\"land\", \"of\", \"the\"]  1025\n",
       "735115   [\"lord\", \"saith\", \"the\"]   866\n",
       "788619       [\"of\", \"out\", \"the\"]   855\n",
       "156903       [\"and\", \"i\", \"will\"]   813\n",
       "793464      [\"of\", \"sons\", \"the\"]   762"
      ]
     },
     "execution_count": 116,
     "metadata": {},
     "output_type": "execute_result"
    }
   ],
   "source": [
    "TrigramFile = pd.read_csv(\"MRTrigramFreqCount.txt\", sep=\"\\t\", header=None)\n",
    "sort_val = TrigramFile.sort_values(1, ascending=False)\n",
    "Trigram_data = sort_val[[0,1]].head(10)\n",
    "Trigram_data"
   ]
  },
  {
   "cell_type": "markdown",
   "metadata": {},
   "source": [
    "# Homework 5.4\n",
    "Create graphs to explain the relationship of the frequency of monograms ( words ) to bigrams and trigam frequencies"
   ]
  },
  {
   "cell_type": "code",
   "execution_count": null,
   "metadata": {},
   "outputs": [],
   "source": [
    "# %load MRMonogramFreqCount.py\n",
    "from mrjob.job import MRJob\n",
    "import re\n",
    "\n",
    "WORD_RE = re.compile(r\"[\\w']+\")\n",
    "\n",
    "class MRMonogramFreqCount(MRJob):\n",
    "    \n",
    "    def mapper(self, _ , line):\n",
    "        for word in WORD_RE.findall(line):\n",
    "            yield word.lower(), 1\n",
    "        \n",
    "    def combiner(self, key, values):\n",
    "        yield key, sum(values)\n",
    "        \n",
    "    def reducer(self, key, values):\n",
    "        yield key, sum(values)\n",
    "        \n",
    "if __name__ == '__main__':\n",
    "    MRMonogramFreqCount.run()"
   ]
  },
  {
   "cell_type": "code",
   "execution_count": 119,
   "metadata": {},
   "outputs": [
    {
     "name": "stderr",
     "output_type": "stream",
     "text": [
      "INFO:mrjob.conf:No configs found; falling back on auto-configuration\n",
      "INFO:mrjob.runner:Creating temp directory c:\\users\\srira\\appdata\\local\\temp\\MRMonogramFreqCount.sriram.20171017.224224.484000\n",
      "INFO:mrjob.sim:Running step 1 of 1...\n",
      "INFO:mrjob.runner:Streaming final output from c:\\users\\srira\\appdata\\local\\temp\\MRMonogramFreqCount.sriram.20171017.224224.484000\\output...\n",
      "INFO:mrjob.runner:Removing temp directory c:\\users\\srira\\appdata\\local\\temp\\MRMonogramFreqCount.sriram.20171017.224224.484000...\n"
     ]
    }
   ],
   "source": [
    "%%capture MRMonogramFreqCount\n",
    "%run MRMonogramFreqCount.py ws5.txt"
   ]
  },
  {
   "cell_type": "code",
   "execution_count": 120,
   "metadata": {},
   "outputs": [
    {
     "data": {
      "text/html": [
       "<div>\n",
       "<style>\n",
       "    .dataframe thead tr:only-child th {\n",
       "        text-align: right;\n",
       "    }\n",
       "\n",
       "    .dataframe thead th {\n",
       "        text-align: left;\n",
       "    }\n",
       "\n",
       "    .dataframe tbody tr th {\n",
       "        vertical-align: top;\n",
       "    }\n",
       "</style>\n",
       "<table border=\"1\" class=\"dataframe\">\n",
       "  <thead>\n",
       "    <tr style=\"text-align: right;\">\n",
       "      <th></th>\n",
       "      <th>0</th>\n",
       "      <th>1</th>\n",
       "    </tr>\n",
       "  </thead>\n",
       "  <tbody>\n",
       "    <tr>\n",
       "      <th>37207</th>\n",
       "      <td>the</td>\n",
       "      <td>93739</td>\n",
       "    </tr>\n",
       "    <tr>\n",
       "      <th>7175</th>\n",
       "      <td>and</td>\n",
       "      <td>79182</td>\n",
       "    </tr>\n",
       "    <tr>\n",
       "      <th>27652</th>\n",
       "      <td>of</td>\n",
       "      <td>53121</td>\n",
       "    </tr>\n",
       "    <tr>\n",
       "      <th>37775</th>\n",
       "      <td>to</td>\n",
       "      <td>33929</td>\n",
       "    </tr>\n",
       "    <tr>\n",
       "      <th>21462</th>\n",
       "      <td>i</td>\n",
       "      <td>30240</td>\n",
       "    </tr>\n",
       "    <tr>\n",
       "      <th>37191</th>\n",
       "      <td>that</td>\n",
       "      <td>24407</td>\n",
       "    </tr>\n",
       "    <tr>\n",
       "      <th>21788</th>\n",
       "      <td>in</td>\n",
       "      <td>24350</td>\n",
       "    </tr>\n",
       "    <tr>\n",
       "      <th>5992</th>\n",
       "      <td>a</td>\n",
       "      <td>23504</td>\n",
       "    </tr>\n",
       "    <tr>\n",
       "      <th>26637</th>\n",
       "      <td>my</td>\n",
       "      <td>17312</td>\n",
       "    </tr>\n",
       "    <tr>\n",
       "      <th>20321</th>\n",
       "      <td>he</td>\n",
       "      <td>17087</td>\n",
       "    </tr>\n",
       "  </tbody>\n",
       "</table>\n",
       "</div>"
      ],
      "text/plain": [
       "          0      1\n",
       "37207   the  93739\n",
       "7175    and  79182\n",
       "27652    of  53121\n",
       "37775    to  33929\n",
       "21462     i  30240\n",
       "37191  that  24407\n",
       "21788    in  24350\n",
       "5992      a  23504\n",
       "26637    my  17312\n",
       "20321    he  17087"
      ]
     },
     "execution_count": 120,
     "metadata": {},
     "output_type": "execute_result"
    }
   ],
   "source": [
    "with open('MRMonogramFreqCount.txt', 'w') as f:\n",
    "    f.write(MRMonogramFreqCount.stdout)\n",
    "\n",
    "File = pd.read_csv(\"MRMonogramFreqCount.txt\", sep=\"\\t\", header=None)\n",
    "sort_val = File.sort_values(1, ascending=False)\n",
    "Monogram_data = sort_val[[0,1]].head(10)\n",
    "Monogram_data"
   ]
  },
  {
   "cell_type": "code",
   "execution_count": 135,
   "metadata": {},
   "outputs": [
    {
     "data": {
      "image/png": "[encoded data removed]",
      "text/plain": [
       "<matplotlib.figure.Figure at 0x93cd5828>"
      ]
     },
     "metadata": {},
     "output_type": "display_data"
    },
    {
     "data": {
      "image/png": "[encoded data removed]",
      "text/plain": [
       "<matplotlib.figure.Figure at 0x93d6a588>"
      ]
     },
     "metadata": {},
     "output_type": "display_data"
    },
    {
     "data": {
      "image/png": "[encoded data removed]",
      "text/plain": [
       "<matplotlib.figure.Figure at 0x8a14fb38>"
      ]
     },
     "metadata": {},
     "output_type": "display_data"
    }
   ],
   "source": [
    "import matplotlib.pyplot as plt\n",
    "plot1 = Monogram_data.plot(x=0, y=1, kind=\"bar\", figsize=(15, 7), fontsize=14,color=\"green\") \n",
    "plot1.set_title('Monogram Frequencies', fontsize=22)\n",
    "plot1.set_ylabel(\"Frequency\", fontsize=14)\n",
    "plot1.set_xlabel(\"Words\", fontsize=14)\n",
    "plt.show()\n",
    "plot2 = Bigram_data.plot(x=0, y=1, kind=\"bar\", figsize=(15, 7), fontsize=14,color=\"red\") \n",
    "plot2.set_title('Bigram Frequencies', fontsize=22)\n",
    "plot2.set_ylabel(\"Frequency\", fontsize=14)\n",
    "plot2.set_xlabel(\"Words\", fontsize=14)\n",
    "plt.show()\n",
    "plot3 = Trigram_data.plot(x=0, y=1, kind=\"bar\", figsize=(15, 7), fontsize=14)\n",
    "plot3.set_title('Trigram Frequencies', fontsize=22)\n",
    "plot3.set_ylabel(\"Frequency\", fontsize=14)\n",
    "plot3.set_xlabel(\"Words\", fontsize=14)\n",
    "plt.show()"
   ]
  },
  {
   "cell_type": "markdown",
   "metadata": {},
   "source": [
    "## For greater than a score of 3 \n",
    "###  Create a TD - IDF implementation and \n",
    "### Analyze the following Sherlock Holmes book from Project Gutenberg text versions of :\n",
    "The Adventures of Sherlock Holmes-  http://www.gutenberg.org/ebooks/1661.txt.utf-8\n",
    "\n",
    "A Study in Scarlet - http://www.gutenberg.org/files/244/244-0.txt\n",
    "\n",
    "The Hound of the Baskervilles - http://www.gutenberg.org/files/2852/2852-0.txt\n",
    "\n",
    "The Return of Sherlock Holmes - http://www.gutenberg.org/files/108/108-0.txt\n",
    "\n",
    "The Sign of the Four - http://www.gutenberg.org/ebooks/2097.txt.utf-8\n",
    "\n",
    "### Display the scores for the top 20 highest frequencty terms and the relationship to the books\n",
    "\n"
   ]
  },
  {
   "cell_type": "code",
   "execution_count": 155,
   "metadata": {
    "collapsed": true
   },
   "outputs": [],
   "source": [
    "import urllib\n",
    "url1 = 'http://www.gutenberg.org/cache/epub/1661/pg1661.txt'\n",
    "url2 = 'http://www.gutenberg.org/files/244/244-0.txt'\n",
    "url3 = 'http://www.gutenberg.org/files/2852/2852-0.txt'\n",
    "url4 = 'http://www.gutenberg.org/files/108/108-0.txt'\n",
    "url5 = 'http://www.gutenberg.org/ebooks/2097.txt.utf-8'\n",
    "\n",
    "matter1 = urllib.urlopen(url1).read()\n",
    "f1 = open('The_Adventures_of_Sherlock_Holmes.txt', 'w')\n",
    "f1.write(matter1)\n",
    "f1.close()\n",
    "\n",
    "matter2 = urllib.urlopen(url2).read()\n",
    "f2 = open('A_Study_in_Scarlet.txt', 'w')\n",
    "f2.write(matter2)\n",
    "f2.close()\n",
    "\n",
    "matter3 = urllib.urlopen(url3).read()\n",
    "f3 = open('The_Hound_of_the_Baskervilles.txt', 'w')\n",
    "f3.write(matter3)\n",
    "f3.close()\n",
    "\n",
    "matter4 = urllib.urlopen(url4).read()\n",
    "f4 = open('The_Return_of_Sherlock_Holmes.txt', 'w')\n",
    "f4.write(matter4)\n",
    "f4.close()\n",
    "\n",
    "matter5 = urllib.urlopen(url1).read()\n",
    "f5 = open('The_Sign_of_the_Four.txt', 'w')\n",
    "f5.write(matter5)\n",
    "f5.close()"
   ]
  },
  {
   "cell_type": "code",
   "execution_count": 156,
   "metadata": {},
   "outputs": [
    {
     "name": "stderr",
     "output_type": "stream",
     "text": [
      "INFO:mrjob.conf:No configs found; falling back on auto-configuration\n",
      "INFO:mrjob.runner:Creating temp directory c:\\users\\srira\\appdata\\local\\temp\\MRMonogramFreqCount.sriram.20171017.231017.598000\n",
      "INFO:mrjob.sim:Running step 1 of 1...\n",
      "INFO:mrjob.runner:Streaming final output from c:\\users\\srira\\appdata\\local\\temp\\MRMonogramFreqCount.sriram.20171017.231017.598000\\output...\n",
      "INFO:mrjob.runner:Removing temp directory c:\\users\\srira\\appdata\\local\\temp\\MRMonogramFreqCount.sriram.20171017.231017.598000...\n",
      "INFO:mrjob.conf:No configs found; falling back on auto-configuration\n",
      "INFO:mrjob.runner:Creating temp directory c:\\users\\srira\\appdata\\local\\temp\\MRMonogramFreqCount.sriram.20171017.231019.250000\n",
      "INFO:mrjob.sim:Running step 1 of 1...\n",
      "INFO:mrjob.runner:Streaming final output from c:\\users\\srira\\appdata\\local\\temp\\MRMonogramFreqCount.sriram.20171017.231019.250000\\output...\n",
      "INFO:mrjob.runner:Removing temp directory c:\\users\\srira\\appdata\\local\\temp\\MRMonogramFreqCount.sriram.20171017.231019.250000...\n",
      "INFO:mrjob.conf:No configs found; falling back on auto-configuration\n",
      "INFO:mrjob.runner:Creating temp directory c:\\users\\srira\\appdata\\local\\temp\\MRMonogramFreqCount.sriram.20171017.231020.311000\n",
      "INFO:mrjob.sim:Running step 1 of 1...\n",
      "INFO:mrjob.runner:Streaming final output from c:\\users\\srira\\appdata\\local\\temp\\MRMonogramFreqCount.sriram.20171017.231020.311000\\output...\n",
      "INFO:mrjob.runner:Removing temp directory c:\\users\\srira\\appdata\\local\\temp\\MRMonogramFreqCount.sriram.20171017.231020.311000...\n",
      "INFO:mrjob.conf:No configs found; falling back on auto-configuration\n",
      "INFO:mrjob.runner:Creating temp directory c:\\users\\srira\\appdata\\local\\temp\\MRMonogramFreqCount.sriram.20171017.231021.283000\n",
      "INFO:mrjob.sim:Running step 1 of 1...\n",
      "INFO:mrjob.runner:Streaming final output from c:\\users\\srira\\appdata\\local\\temp\\MRMonogramFreqCount.sriram.20171017.231021.283000\\output...\n",
      "INFO:mrjob.runner:Removing temp directory c:\\users\\srira\\appdata\\local\\temp\\MRMonogramFreqCount.sriram.20171017.231021.283000...\n",
      "INFO:mrjob.conf:No configs found; falling back on auto-configuration\n",
      "INFO:mrjob.runner:Creating temp directory c:\\users\\srira\\appdata\\local\\temp\\MRMonogramFreqCount.sriram.20171017.231022.837000\n",
      "INFO:mrjob.sim:Running step 1 of 1...\n",
      "INFO:mrjob.runner:Streaming final output from c:\\users\\srira\\appdata\\local\\temp\\MRMonogramFreqCount.sriram.20171017.231022.837000\\output...\n",
      "INFO:mrjob.runner:Removing temp directory c:\\users\\srira\\appdata\\local\\temp\\MRMonogramFreqCount.sriram.20171017.231022.837000...\n"
     ]
    }
   ],
   "source": [
    "%%capture MRMonogramFreqCount\n",
    "%run MRMonogramFreqCount.py The_Adventures_of_Sherlock_Holmes.txt\n",
    "%run MRMonogramFreqCount.py A_Study_in_Scarlet.txt\n",
    "%run MRMonogramFreqCount.py The_Hound_of_the_Baskervilles.txt\n",
    "%run MRMonogramFreqCount.py The_Return_of_Sherlock_Holmes.txt\n",
    "%run MRMonogramFreqCount.py The_Sign_of_the_Four.txt"
   ]
  },
  {
   "cell_type": "code",
   "execution_count": 158,
   "metadata": {},
   "outputs": [],
   "source": [
    "with open('The_Adventures_of_Sherlock_Holmes_Freq.txt', 'w') as f: ## open the text file\n",
    "    f.write(MRMonogramFreqCount.stdout)    ##write the content in a text file\n"
   ]
  },
  {
   "cell_type": "code",
   "execution_count": 159,
   "metadata": {},
   "outputs": [
    {
     "name": "stdout",
     "output_type": "stream",
     "text": [
      "The Adventures of Sherlock Holmes\n"
     ]
    },
    {
     "data": {
      "text/html": [
       "<div>\n",
       "<style>\n",
       "    .dataframe thead tr:only-child th {\n",
       "        text-align: right;\n",
       "    }\n",
       "\n",
       "    .dataframe thead th {\n",
       "        text-align: left;\n",
       "    }\n",
       "\n",
       "    .dataframe tbody tr th {\n",
       "        vertical-align: top;\n",
       "    }\n",
       "</style>\n",
       "<table border=\"1\" class=\"dataframe\">\n",
       "  <thead>\n",
       "    <tr style=\"text-align: right;\">\n",
       "      <th></th>\n",
       "      <th>0</th>\n",
       "      <th>1</th>\n",
       "    </tr>\n",
       "  </thead>\n",
       "  <tbody>\n",
       "    <tr>\n",
       "      <th>27782</th>\n",
       "      <td>the</td>\n",
       "      <td>6446</td>\n",
       "    </tr>\n",
       "    <tr>\n",
       "      <th>36190</th>\n",
       "      <td>the</td>\n",
       "      <td>5796</td>\n",
       "    </tr>\n",
       "    <tr>\n",
       "      <th>7500</th>\n",
       "      <td>the</td>\n",
       "      <td>5796</td>\n",
       "    </tr>\n",
       "    <tr>\n",
       "      <th>19774</th>\n",
       "      <td>the</td>\n",
       "      <td>3515</td>\n",
       "    </tr>\n",
       "    <tr>\n",
       "      <th>527</th>\n",
       "      <td>and</td>\n",
       "      <td>3069</td>\n",
       "    </tr>\n",
       "    <tr>\n",
       "      <th>29217</th>\n",
       "      <td>and</td>\n",
       "      <td>3069</td>\n",
       "    </tr>\n",
       "    <tr>\n",
       "      <th>24105</th>\n",
       "      <td>i</td>\n",
       "      <td>3007</td>\n",
       "    </tr>\n",
       "    <tr>\n",
       "      <th>20783</th>\n",
       "      <td>and</td>\n",
       "      <td>2989</td>\n",
       "    </tr>\n",
       "    <tr>\n",
       "      <th>3893</th>\n",
       "      <td>i</td>\n",
       "      <td>2961</td>\n",
       "    </tr>\n",
       "    <tr>\n",
       "      <th>32583</th>\n",
       "      <td>i</td>\n",
       "      <td>2961</td>\n",
       "    </tr>\n",
       "    <tr>\n",
       "      <th>25455</th>\n",
       "      <td>of</td>\n",
       "      <td>2934</td>\n",
       "    </tr>\n",
       "    <tr>\n",
       "      <th>36308</th>\n",
       "      <td>to</td>\n",
       "      <td>2820</td>\n",
       "    </tr>\n",
       "    <tr>\n",
       "      <th>7618</th>\n",
       "      <td>to</td>\n",
       "      <td>2820</td>\n",
       "    </tr>\n",
       "    <tr>\n",
       "      <th>5186</th>\n",
       "      <td>of</td>\n",
       "      <td>2778</td>\n",
       "    </tr>\n",
       "    <tr>\n",
       "      <th>33876</th>\n",
       "      <td>of</td>\n",
       "      <td>2778</td>\n",
       "    </tr>\n",
       "    <tr>\n",
       "      <th>20510</th>\n",
       "      <td>a</td>\n",
       "      <td>2767</td>\n",
       "    </tr>\n",
       "    <tr>\n",
       "      <th>27906</th>\n",
       "      <td>to</td>\n",
       "      <td>2746</td>\n",
       "    </tr>\n",
       "    <tr>\n",
       "      <th>13873</th>\n",
       "      <td>the</td>\n",
       "      <td>2745</td>\n",
       "    </tr>\n",
       "    <tr>\n",
       "      <th>256</th>\n",
       "      <td>a</td>\n",
       "      <td>2696</td>\n",
       "    </tr>\n",
       "    <tr>\n",
       "      <th>28946</th>\n",
       "      <td>a</td>\n",
       "      <td>2696</td>\n",
       "    </tr>\n",
       "  </tbody>\n",
       "</table>\n",
       "</div>"
      ],
      "text/plain": [
       "         0     1\n",
       "27782  the  6446\n",
       "36190  the  5796\n",
       "7500   the  5796\n",
       "19774  the  3515\n",
       "527    and  3069\n",
       "29217  and  3069\n",
       "24105    i  3007\n",
       "20783  and  2989\n",
       "3893     i  2961\n",
       "32583    i  2961\n",
       "25455   of  2934\n",
       "36308   to  2820\n",
       "7618    to  2820\n",
       "5186    of  2778\n",
       "33876   of  2778\n",
       "20510    a  2767\n",
       "27906   to  2746\n",
       "13873  the  2745\n",
       "256      a  2696\n",
       "28946    a  2696"
      ]
     },
     "execution_count": 159,
     "metadata": {},
     "output_type": "execute_result"
    }
   ],
   "source": [
    "File = pd.read_csv(\"The_Adventures_of_Sherlock_Holmes_Freq.txt\", sep=\"\\t\", header=None)\n",
    "sort_val = File.sort_values(1, ascending=False) ##sort the values from highest to lowest\n",
    "print \"The Adventures of Sherlock Holmes\"\n",
    "The_Adventures_of_Sherlock_Holmes_data = sort_val[[0,1]].head(20) ##display the top 20 words\n",
    "The_Adventures_of_Sherlock_Holmes_data"
   ]
  },
  {
   "cell_type": "code",
   "execution_count": null,
   "metadata": {
    "collapsed": true
   },
   "outputs": [],
   "source": []
  }
 ],
 "metadata": {
  "kernelspec": {
   "display_name": "Python 2",
   "language": "python",
   "name": "python2"
  },
  "language_info": {
   "codemirror_mode": {
    "name": "ipython",
    "version": 2
   },
   "file_extension": ".py",
   "mimetype": "text/x-python",
   "name": "python",
   "nbconvert_exporter": "python",
   "pygments_lexer": "ipython2",
   "version": "2.7.13"
  }
 },
 "nbformat": 4,
 "nbformat_minor": 2
}
